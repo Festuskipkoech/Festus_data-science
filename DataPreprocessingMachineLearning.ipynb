{
  "nbformat": 4,
  "nbformat_minor": 0,
  "metadata": {
    "colab": {
      "provenance": [],
      "authorship_tag": "ABX9TyMVNI+OsbxFfSU6XMTPhafi",
      "include_colab_link": true
    },
    "kernelspec": {
      "name": "python3",
      "display_name": "Python 3"
    },
    "language_info": {
      "name": "python"
    }
  },
  "cells": [
    {
      "cell_type": "markdown",
      "metadata": {
        "id": "view-in-github",
        "colab_type": "text"
      },
      "source": [
        "<a href=\"https://colab.research.google.com/github/Festuskipkoech/Festus_data-science/blob/main/DataPreprocessingMachineLearning.ipynb\" target=\"_parent\"><img src=\"https://colab.research.google.com/assets/colab-badge.svg\" alt=\"Open In Colab\"/></a>"
      ]
    },
    {
      "cell_type": "code",
      "execution_count": 6,
      "metadata": {
        "colab": {
          "base_uri": "https://localhost:8080/"
        },
        "id": "IY7tQXulb8TK",
        "outputId": "8ea996d3-65ff-4252-d69a-ee93ddac2bcb"
      },
      "outputs": [
        {
          "output_type": "stream",
          "name": "stdout",
          "text": [
            "Original DataFrame Shape: (100, 5)\n",
            "Preprocessed Data Shape: (100, 278)\n",
            "\n",
            "Preprocessing Complete: Handled missing values, scaled numerics, and encoded categoricals.\n"
          ]
        }
      ],
      "source": [
        "import numpy as np\n",
        "import pandas as pd\n",
        "from sklearn.preprocessing import StandardScaler, OneHotEncoder\n",
        "from sklearn.impute import SimpleImputer\n",
        "from sklearn.compose import ColumnTransformer\n",
        "from sklearn.pipeline import Pipeline\n",
        "\n",
        "def preprocess_data(df):\n",
        "    \"\"\"\n",
        "    Comprehensive data preprocessing pipeline\n",
        "\n",
        "    Parameters:\n",
        "    df (pandas.DataFrame): Input dataset with mixed feature types\n",
        "\n",
        "    Returns:\n",
        "    numpy.ndarray: Preprocessed features\n",
        "    \"\"\"\n",
        "    # Identify feature types\n",
        "    numeric_features = df.select_dtypes(include=['int64', 'float64']).columns.tolist()\n",
        "    categorical_features = df.select_dtypes(include=['object', 'category']).columns.tolist()\n",
        "\n",
        "    # Create preprocessing steps\n",
        "    # Numerical features preprocessing\n",
        "    numeric_transformer = Pipeline(steps=[\n",
        "        ('imputer', SimpleImputer(strategy='median')),  # Handle missing values\n",
        "        ('scaler', StandardScaler())  # Scale numerical features\n",
        "    ])\n",
        "\n",
        "    # Categorical features preprocessing\n",
        "    categorical_transformer = Pipeline(steps=[\n",
        "        ('imputer', SimpleImputer(strategy='constant', fill_value='missing')),\n",
        "        ('onehot', OneHotEncoder(handle_unknown='ignore'))\n",
        "    ])\n",
        "\n",
        "    # Combine preprocessing steps\n",
        "    preprocessor = ColumnTransformer(\n",
        "        transformers=[\n",
        "            ('num', numeric_transformer, numeric_features),\n",
        "            ('cat', categorical_transformer, categorical_features)\n",
        "        ])\n",
        "\n",
        "    # Fit and transform the data\n",
        "    X_preprocessed = preprocessor.fit_transform(df)\n",
        "\n",
        "    return X_preprocessed\n",
        "\n",
        "def main():\n",
        "    # Example usage with synthetic dataset\n",
        "    # Create a sample dataset with mixed feature types and missing values\n",
        "    np.random.seed(42)\n",
        "\n",
        "    # Numeric features with missing values\n",
        "    numeric_data = np.random.randn(100, 3)\n",
        "    numeric_data[np.random.rand(100, 3) < 0.1] = np.nan\n",
        "\n",
        "    # Categorical features\n",
        "    categorical_data = np.random.choice(['A', 'B', 'C'], size=(100, 2))\n",
        "\n",
        "    # Combine into a DataFrame\n",
        "    df = pd.DataFrame(\n",
        "        np.hstack([numeric_data, categorical_data]),\n",
        "        columns=['num1', 'num2', 'num3', 'cat1', 'cat2']\n",
        "    )\n",
        "\n",
        "    # Preprocess the data\n",
        "    X_processed = preprocess_data(df)\n",
        "\n",
        "    # Print preprocessing results\n",
        "    print(\"Original DataFrame Shape:\", df.shape)\n",
        "    print(\"Preprocessed Data Shape:\", X_processed.shape)\n",
        "    print(\"\\nPreprocessing Complete: Handled missing values, scaled numerics, and encoded categoricals.\")\n",
        "\n",
        "if __name__ == \"__main__\":\n",
        "    main()"
      ]
    }
  ]
}