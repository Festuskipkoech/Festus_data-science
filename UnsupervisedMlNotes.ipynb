{
  "nbformat": 4,
  "nbformat_minor": 0,
  "metadata": {
    "colab": {
      "provenance": [],
      "authorship_tag": "ABX9TyN2l2d6J9Frg5k7fJX92/YN",
      "include_colab_link": true
    },
    "kernelspec": {
      "name": "python3",
      "display_name": "Python 3"
    },
    "language_info": {
      "name": "python"
    }
  },
  "cells": [
    {
      "cell_type": "markdown",
      "metadata": {
        "id": "view-in-github",
        "colab_type": "text"
      },
      "source": [
        "<a href=\"https://colab.research.google.com/github/Festuskipkoech/Festus_data-science/blob/main/UnsupervisedMlNotes.ipynb\" target=\"_parent\"><img src=\"https://colab.research.google.com/assets/colab-badge.svg\" alt=\"Open In Colab\"/></a>"
      ]
    },
    {
      "cell_type": "markdown",
      "source": [
        "# Unsupervised Machine Learning\n",
        "\n",
        "## Overview\n",
        "Unsupervised Machine Learning (ML) involves training algorithms on datasets without labeled responses. The goal is to discover hidden patterns, structures, or relationships in the data.\n",
        "\n",
        "---\n",
        "\n",
        "## Key Elements\n",
        "1. **Unlabeled Data**:\n",
        "   - No predefined target/output variables.\n",
        "   - Algorithms work solely on input data (features).\n",
        "\n",
        "2. **Goals**:\n",
        "   - Discover hidden patterns or structures.\n",
        "   - Reduce dimensionality for data visualization or compression.\n",
        "\n",
        "3. **Types of Problems**:\n",
        "   - **Clustering**: Grouping similar data points (e.g., k-means, DBSCAN).\n",
        "   - **Dimensionality Reduction**: Reducing the number of features (e.g., PCA, t-SNE).\n",
        "   - **Anomaly Detection**: Identifying outliers in data.\n",
        "\n",
        "4. **Common Algorithms**:\n",
        "   - **Clustering**:\n",
        "     - K-Means\n",
        "     - Hierarchical Clustering\n",
        "     - DBSCAN (Density-Based Spatial Clustering)\n",
        "   - **Dimensionality Reduction**:\n",
        "     - Principal Component Analysis (PCA)\n",
        "     - t-Distributed Stochastic Neighbor Embedding (t-SNE)\n",
        "     - Autoencoders (Deep Learning)\n",
        "\n",
        "---\n",
        "\n",
        "## Important Concepts\n",
        "1. **Distance Metrics**:\n",
        "   - Used to measure similarity or dissimilarity.\n",
        "   - Examples: Euclidean Distance, Manhattan Distance, Cosine Similarity.\n",
        "\n",
        "2. **Centroids**:\n",
        "   - Represent cluster centers in clustering algorithms like K-Means.\n",
        "\n",
        "3. **Explained Variance**:\n",
        "   - Measure of how much variance is retained in dimensionality reduction techniques (e.g., PCA).\n",
        "\n",
        "4. **Silhouette Score**:\n",
        "   - Metric to evaluate the quality of clustering results.\n",
        "\n",
        "5. **Manifold Learning**:\n",
        "   - Captures non-linear relationships in high-dimensional data (e.g., t-SNE, UMAP).\n",
        "\n",
        "---\n",
        "\n",
        "## Applications\n",
        "- Market Segmentation\n",
        "- Customer Behavior Analysis\n",
        "- Image Compression\n",
        "- Anomaly Detection in Cybersecurity\n",
        "- Data Preprocessing (e.g., noise reduction)\n",
        "\n",
        "---\n",
        "\n",
        "## Key Challenges\n",
        "1. **Interpreting Results**:\n",
        "   - No labels make it hard to evaluate model performance.\n",
        "2. **Scalability**:\n",
        "   - High computational cost for large datasets.\n",
        "3. **Choosing Hyperparameters**:\n",
        "   - Difficult to determine the optimal number of clusters or dimensions.\n",
        "\n",
        "---\n",
        "\n",
        "## Resources for Further Learning\n",
        "- [Scikit-learn Documentation](https://scikit-learn.org/stable/)\n",
        "- \"Unsupervised Learning\" by Andrew Ng (Coursera)\n",
        "- [TensorFlow Tutorials](https://www.tensorflow.org/tutorials)\n",
        "\n",
        "- [Udemy Ml](https://www.udemy.com/course/python-tensorflow-deep-dive-into-machine-learning/learn/lecture/39900556#overview)\n",
        "\n",
        "\n"
      ],
      "metadata": {
        "id": "2-LHxkOq0P6G"
      }
    },
    {
      "cell_type": "code",
      "execution_count": null,
      "metadata": {
        "id": "LUDbGW6F0LY4"
      },
      "outputs": [],
      "source": []
    }
  ]
}