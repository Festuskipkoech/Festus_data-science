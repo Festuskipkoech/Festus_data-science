{
  "nbformat": 4,
  "nbformat_minor": 0,
  "metadata": {
    "colab": {
      "provenance": [],
      "authorship_tag": "ABX9TyPBZXVQaD0b2xgyIRpYWAq8",
      "include_colab_link": true
    },
    "kernelspec": {
      "name": "python3",
      "display_name": "Python 3"
    },
    "language_info": {
      "name": "python"
    }
  },
  "cells": [
    {
      "cell_type": "markdown",
      "metadata": {
        "id": "view-in-github",
        "colab_type": "text"
      },
      "source": [
        "<a href=\"https://colab.research.google.com/github/Festuskipkoech/Festus_data-science/blob/main/HierarchicalClustering.ipynb\" target=\"_parent\"><img src=\"https://colab.research.google.com/assets/colab-badge.svg\" alt=\"Open In Colab\"/></a>"
      ]
    },
    {
      "cell_type": "markdown",
      "source": [
        "# Hierarchical Clustering: Core Concepts\n",
        "\n",
        "Hierarchical Clustering is a method of cluster analysis that builds a hierarchy of clusters. This technique can be divided into two main types: **Agglomerative** and **Divisive**. Below are the core concepts, steps, and important details about hierarchical clustering.\n",
        "\n",
        "## Types of Hierarchical Clustering\n",
        "\n",
        "### 1. **Agglomerative Hierarchical Clustering (Bottom-Up)**\n",
        "- **Agglomerative** is the most commonly used approach.\n",
        "- It starts by treating each data point as a single cluster.\n",
        "- Then, iteratively merges the closest clusters based on some distance metric until all data points belong to a single cluster or a stopping criterion is reached.\n",
        "- **Steps**:\n",
        "  1. Begin with each data point as a separate cluster.\n",
        "  2. Find the two closest clusters.\n",
        "  3. Merge the two closest clusters into a single cluster.\n",
        "  4. Repeat steps 2 and 3 until a stopping criterion is met (such as a specific number of clusters).\n",
        "\n",
        "### 2. **Divisive Hierarchical Clustering (Top-Down)**\n",
        "- **Divisive** starts with all data points in a single cluster and recursively splits the clusters into smaller ones.\n",
        "- It is less common due to its higher computational complexity.\n",
        "- **Steps**:\n",
        "  1. Start with all data points in one large cluster.\n",
        "  2. Split the largest cluster into two smaller clusters.\n",
        "  3. Continue splitting the clusters recursively until each data point is in its own cluster.\n",
        "\n",
        "## Distance Metrics\n",
        "In hierarchical clustering, the choice of distance metric affects how clusters are formed. Common distance metrics include:\n",
        "- **Euclidean Distance**: Measures straight-line distance between points in a feature space.\n",
        "- **Manhattan Distance**: Measures the sum of absolute differences between the coordinates.\n",
        "- **Cosine Similarity**: Measures the cosine of the angle between two vectors.\n",
        "  \n",
        "## Linkage Criteria\n",
        "The linkage criterion determines how the distance between clusters is measured. Common linkage criteria include:\n",
        "- **Single Linkage**: Distance between the closest points in two clusters (minimum distance).\n",
        "- **Complete Linkage**: Distance between the furthest points in two clusters (maximum distance).\n",
        "- **Average Linkage**: Average distance between all points in two clusters.\n",
        "- **Ward's Linkage**: Minimizes the variance within each cluster, which tends to create clusters of small variance.\n",
        "\n",
        "## Dendrogram\n",
        "A **dendrogram** is a tree-like diagram used to illustrate the arrangement of the clusters in hierarchical clustering. It visually represents:\n",
        "- The merging or splitting of clusters.\n",
        "- The distances at which clusters are merged or split.\n",
        "  \n",
        "You can cut the dendrogram at a certain level to determine the desired number of clusters.\n",
        "\n",
        "### Example of Dendrogram Interpretation:\n",
        "- The **y-axis** represents the distance or dissimilarity between clusters.\n",
        "- The **x-axis** represents the individual data points or clusters.\n",
        "- The **height of the branches** indicates the dissimilarity between clusters when they are merged.\n",
        "\n",
        "## Advantages of Hierarchical Clustering\n",
        "- **No need to pre-define the number of clusters**: Unlike K-means, hierarchical clustering doesn't require the user to specify the number of clusters beforehand.\n",
        "- **Flexibility**: You can use different distance metrics and linkage criteria depending on the nature of the data.\n",
        "- **Produces a dendrogram**: The dendrogram provides a visual way to explore the clustering structure.\n",
        "\n",
        "## Disadvantages of Hierarchical Clustering\n",
        "- **High computational cost**: Hierarchical clustering has a time complexity of O(n^2), making it less efficient for large datasets.\n",
        "- **Sensitive to noise**: It may be affected by noise and outliers, especially in agglomerative clustering.\n",
        "- **Doesn't scale well**: Can be inefficient with large datasets due to its pairwise distance calculations.\n",
        "\n",
        "## When to Use Hierarchical Clustering\n",
        "- When the number of clusters is unknown.\n",
        "- When you need a detailed visual representation of how clusters are formed (via dendrogram).\n",
        "- When working with small to medium-sized datasets, since hierarchical clustering can be computationally expensive.\n",
        "\n",
        "---\n",
        "\n",
        "### Conclusion\n",
        "Hierarchical clustering provides a comprehensive way to analyze the relationships between data points and build a cluster hierarchy. By choosing appropriate distance metrics and linkage methods, you can tailor the algorithm to your specific dataset and analysis goals.\n"
      ],
      "metadata": {
        "id": "TEm4Bj60SG68"
      }
    },
    {
      "cell_type": "code",
      "execution_count": 2,
      "metadata": {
        "id": "dckrAv0cM6po"
      },
      "outputs": [],
      "source": [
        "import numpy as np\n",
        "import matplotlib.pyplot as plt\n",
        "from sklearn.cluster import AgglomerativeClustering\n",
        "from scipy.cluster.hierarchy import dendrogram, linkage\n",
        "# linkage:determines how distance between clusters is measured\n",
        "# dendogram:visualy represents merging/spliting of clusters"
      ]
    },
    {
      "cell_type": "code",
      "source": [
        "np.random.seed(0)\n",
        "X = np.random.rand(20, 2)"
      ],
      "metadata": {
        "id": "ioK83ViYmnK8"
      },
      "execution_count": 3,
      "outputs": []
    },
    {
      "cell_type": "code",
      "source": [
        "clustering =AgglomerativeClustering(n_clusters=None, distance_threshold=0).fit(X)"
      ],
      "metadata": {
        "id": "D4ZKkdr9m-Yw"
      },
      "execution_count": 5,
      "outputs": []
    },
    {
      "cell_type": "code",
      "source": [
        "linked=linkage(X, method='ward')\n",
        "dendrogram(linked, orientation='top')\n",
        "plt.xlabel('Data Points')\n",
        "plt.ylabel('Distance')\n",
        "plt.title('Dendrogram')\n",
        "plt.show()"
      ],
      "metadata": {
        "colab": {
          "base_uri": "https://localhost:8080/",
          "height": 476
        },
        "id": "nLssjRZunbdz",
        "outputId": "ac6e030b-071b-434f-c2b2-8ccb3b904c87"
      },
      "execution_count": 7,
      "outputs": [
        {
          "output_type": "display_data",
          "data": {
            "text/plain": [
              "<Figure size 640x480 with 1 Axes>"
            ],
            "image/png": "[encoded data removed]"
          },
          "metadata": {}
        }
      ]
    }
  ]
}