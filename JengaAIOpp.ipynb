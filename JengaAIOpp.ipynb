{
  "nbformat": 4,
  "nbformat_minor": 0,
  "metadata": {
    "colab": {
      "provenance": [],
      "authorship_tag": "ABX9TyOYFT3HgLsMrTrMR1AoFkYe",
      "include_colab_link": true
    },
    "kernelspec": {
      "name": "python3",
      "display_name": "Python 3"
    },
    "language_info": {
      "name": "python"
    }
  },
  "cells": [
    {
      "cell_type": "markdown",
      "metadata": {
        "id": "view-in-github",
        "colab_type": "text"
      },
      "source": [
        "<a href=\"https://colab.research.google.com/github/Festuskipkoech/Festus_data-science/blob/main/JengaAIOpp.ipynb\" target=\"_parent\"><img src=\"https://colab.research.google.com/assets/colab-badge.svg\" alt=\"Open In Colab\"/></a>"
      ]
    },
    {
      "cell_type": "code",
      "execution_count": 7,
      "metadata": {
        "id": "LL86TJ94CDUp"
      },
      "outputs": [],
      "source": [
        "# Dataset class\n",
        "class Dataset:\n",
        "    def __init__(self, data):\n",
        "        self.data = data\n",
        "\n",
        "    def preprocess(self):\n",
        "        print(\"Preprocessing the data...\")\n",
        "        # Logic for preprocessing\n",
        "        self.data = [(x, y) for x, y in self.data if x > 0]\n",
        "        return self.data\n",
        "\n",
        "# Model class\n",
        "class Model:\n",
        "    def __init__(self):\n",
        "        self.weights = None\n",
        "\n",
        "    def train(self, data):\n",
        "        print(\"Training model...\")\n",
        "        # Simplified training logic\n",
        "        self.weights = sum(y for _, y in data) / len(data)\n",
        "\n",
        "    def predict(self, x):\n",
        "        if self.weights is None:\n",
        "            raise ValueError(\"Model is not trained yet!\")\n",
        "        return self.weights * x\n",
        "\n",
        "# Evaluator class\n",
        "class Evaluator:\n",
        "    def __init__(self, model):\n",
        "        self.model = model\n",
        "\n",
        "    def evaluate(self, data):\n",
        "        print(\"Evaluating model...\")\n",
        "        errors = [abs(self.model.predict(x) - y) for x, y in data]\n",
        "        return sum(errors) / len(errors)\n"
      ]
    },
    {
      "cell_type": "code",
      "source": [
        "# sample data\n",
        "data = [(1, 100), (2, 200), (3, 300), (-1, 50)]  # Includes invalid data\n",
        "dataset = Dataset(data)\n",
        "clean_data = dataset.preprocess()\n",
        "\n",
        "# train the model\n",
        "model = Model()\n",
        "model.train(clean_data)\n",
        "\n",
        "# evaluate the model\n",
        "evaluator = Evaluator(model)\n",
        "error = evaluator.evaluate(clean_data)\n",
        "print(f\"Mean Absolute Error: {error}\")"
      ],
      "metadata": {
        "colab": {
          "base_uri": "https://localhost:8080/"
        },
        "id": "byEAG744EqpY",
        "outputId": "f15ded44-6b39-4776-ab4a-ddcb9b75f360"
      },
      "execution_count": 8,
      "outputs": [
        {
          "output_type": "stream",
          "name": "stdout",
          "text": [
            "Preprocessing the data...\n",
            "Training model...\n",
            "Evaluating model...\n",
            "Mean Absolute Error: 200.0\n"
          ]
        }
      ]
    }
  ]
}