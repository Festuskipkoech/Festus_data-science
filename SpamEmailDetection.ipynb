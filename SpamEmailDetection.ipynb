{
  "nbformat": 4,
  "nbformat_minor": 0,
  "metadata": {
    "colab": {
      "provenance": [],
      "authorship_tag": "ABX9TyNG/mERTP2oinno2GJqCtWT",
      "include_colab_link": true
    },
    "kernelspec": {
      "name": "python3",
      "display_name": "Python 3"
    },
    "language_info": {
      "name": "python"
    }
  },
  "cells": [
    {
      "cell_type": "markdown",
      "metadata": {
        "id": "view-in-github",
        "colab_type": "text"
      },
      "source": [
        "<a href=\"https://colab.research.google.com/github/Festuskipkoech/Festus_data-science/blob/main/SpamEmailDetection.ipynb\" target=\"_parent\"><img src=\"https://colab.research.google.com/assets/colab-badge.svg\" alt=\"Open In Colab\"/></a>"
      ]
    },
    {
      "cell_type": "code",
      "execution_count": 3,
      "metadata": {
        "id": "fJ2pSpAcfgek"
      },
      "outputs": [],
      "source": [
        "import numpy as np\n",
        "import pandas as pd\n",
        "import matplotlib.pyplot as plt\n",
        "from sklearn.model_selection import train_test_split\n",
        "from sklearn.linear_model import LogisticRegression\n",
        "from sklearn.feature_extraction.text import TfidfVectorizer\n",
        "from sklearn.metrics import classification_report, confusion_matrix\n",
        "import re\n",
        "import nltk\n",
        "from nltk.corpus import stopwords\n",
        "from nltk.stem import WordNetLemmatizer\n"
      ]
    },
    {
      "cell_type": "code",
      "source": [
        "\n",
        "# download required data\n",
        "nltk.download('stopwords')\n",
        "nltk.download('wordnet')\n",
        "nltk.download('omw-1.4')"
      ],
      "metadata": {
        "colab": {
          "base_uri": "https://localhost:8080/"
        },
        "id": "I035zTonmr90",
        "outputId": "deb5e33d-a619-49e5-a5e9-6285a8980753"
      },
      "execution_count": 2,
      "outputs": [
        {
          "output_type": "stream",
          "name": "stderr",
          "text": [
            "[nltk_data] Downloading package stopwords to /root/nltk_data...\n",
            "[nltk_data]   Unzipping corpora/stopwords.zip.\n",
            "[nltk_data] Downloading package wordnet to /root/nltk_data...\n",
            "[nltk_data] Downloading package omw-1.4 to /root/nltk_data...\n"
          ]
        },
        {
          "output_type": "execute_result",
          "data": {
            "text/plain": [
              "True"
            ]
          },
          "metadata": {},
          "execution_count": 2
        }
      ]
    },
    {
      "cell_type": "code",
      "source": [
        "import re\n",
        "import pandas as pd\n",
        "from sklearn.feature_extraction.text import TfidfVectorizer\n",
        "from sklearn.linear_model import LogisticRegression\n",
        "from sklearn.model_selection import train_test_split\n",
        "from sklearn.metrics import classification_report, confusion_matrix\n",
        "from nltk.stem import WordNetLemmatizer\n",
        "from nltk.corpus import stopwords\n",
        "\n",
        "class SpamDetector:\n",
        "    def __init__(self):\n",
        "        self.vectorizer = TfidfVectorizer(max_features=5000)\n",
        "        self.classifier = LogisticRegression(random_state=42)\n",
        "        self.lemmatizer = WordNetLemmatizer()\n",
        "        self.stop_words = set(stopwords.words('english'))\n",
        "\n",
        "    def preprocess_text(self, text):\n",
        "        # Convert to lowercase\n",
        "        text = text.lower()\n",
        "        # Remove special characters\n",
        "        text = re.sub(r'[^a-zA-Z\\s]', '', text)\n",
        "        # Tokenize and remove stop words\n",
        "        words = text.split()\n",
        "        words = [self.lemmatizer.lemmatize(word) for word in words if word not in self.stop_words]\n",
        "        return ' '.join(words)\n",
        "\n",
        "    def prepare_data(self, df, text_column, label_column):\n",
        "        # Preprocess the text data\n",
        "        df['processed_text'] = df[text_column].apply(self.preprocess_text)\n",
        "\n",
        "        # Convert text to TF-IDF features\n",
        "        X = self.vectorizer.fit_transform(df['processed_text'])\n",
        "        y = df[label_column]\n",
        "\n",
        "        # Split the data\n",
        "        return train_test_split(X, y, test_size=0.2, random_state=42)\n",
        "\n",
        "    def train(self, X_train, y_train):\n",
        "        self.classifier.fit(X_train, y_train)\n",
        "\n",
        "    def evaluate(self, X_test, y_test):\n",
        "        predictions = self.classifier.predict(X_test)\n",
        "\n",
        "        print(\"\\nClassification Report:\")\n",
        "        print(classification_report(y_test, predictions))\n",
        "\n",
        "        print(\"\\nConfusion Matrix:\")\n",
        "        print(confusion_matrix(y_test, predictions))\n",
        "\n",
        "        return predictions\n",
        "\n",
        "    def predict(self, text):\n",
        "        processed_text = self.preprocess_text(text)\n",
        "        vectorized_text = self.vectorizer.transform([processed_text])\n",
        "        prediction = self.classifier.predict(vectorized_text)\n",
        "        probability = self.classifier.predict_proba(vectorized_text)\n",
        "\n",
        "        return {\n",
        "            'is_spam': bool(prediction[0]),\n",
        "            'spam_probability': probability[0][1]\n",
        "        }\n",
        "\n",
        "# Example usage\n",
        "if __name__ == '__main__':\n",
        "    # Load your dataset, assuming it has 'text' and 'label' columns\n",
        "    # where 'label' is 1 for spam and 0 for ham\n",
        "\n",
        "    df = pd.read_csv('/content/spam_ham_dataset.csv')\n",
        "\n",
        "    # Initialize and train the spam detector\n",
        "    detector = SpamDetector()\n",
        "    X_train, X_test, y_train, y_test = detector.prepare_data(df, 'text', 'label')\n",
        "    detector.train(X_train, y_train)\n",
        "\n",
        "    # Evaluate the model\n",
        "    predictions = detector.evaluate(X_test, y_test)\n",
        "\n",
        "    # Example prediction\n",
        "    sample_email = \"\"\"Congratulations! You have won a $1000 gift card! Click here to claim your prize now!\"\"\"\n",
        "    result = detector.predict(sample_email)\n",
        "    print(\"\\nSample email predictions:\")\n",
        "    print(f\"Is spam: {result['is_spam']}\")\n",
        "    print(f\"Spam probability: {result['spam_probability']:.2f}\")\n"
      ],
      "metadata": {
        "colab": {
          "base_uri": "https://localhost:8080/"
        },
        "id": "FyBmT0jGmuFv",
        "outputId": "9f5d7e54-6354-48bb-da93-58ccc8371675"
      },
      "execution_count": 7,
      "outputs": [
        {
          "output_type": "stream",
          "name": "stdout",
          "text": [
            "\n",
            "Classification Report:\n",
            "              precision    recall  f1-score   support\n",
            "\n",
            "         ham       0.99      0.99      0.99       742\n",
            "        spam       0.97      0.98      0.97       293\n",
            "\n",
            "    accuracy                           0.98      1035\n",
            "   macro avg       0.98      0.98      0.98      1035\n",
            "weighted avg       0.98      0.98      0.98      1035\n",
            "\n",
            "\n",
            "Confusion Matrix:\n",
            "[[733   9]\n",
            " [  7 286]]\n",
            "\n",
            "Sample email predictions:\n",
            "Is spam: True\n",
            "Spam probability: 0.77\n"
          ]
        }
      ]
    }
  ]
}