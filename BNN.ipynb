{
  "nbformat": 4,
  "nbformat_minor": 0,
  "metadata": {
    "colab": {
      "provenance": [],
      "authorship_tag": "ABX9TyMPGeja6SbAFQ+F5YEY9PVb",
      "include_colab_link": true
    },
    "kernelspec": {
      "name": "python3",
      "display_name": "Python 3"
    },
    "language_info": {
      "name": "python"
    }
  },
  "cells": [
    {
      "cell_type": "markdown",
      "metadata": {
        "id": "view-in-github",
        "colab_type": "text"
      },
      "source": [
        "<a href=\"https://colab.research.google.com/github/Festuskipkoech/Festus_data-science/blob/main/BNN.ipynb\" target=\"_parent\"><img src=\"https://colab.research.google.com/assets/colab-badge.svg\" alt=\"Open In Colab\"/></a>"
      ]
    },
    {
      "cell_type": "code",
      "execution_count": 8,
      "metadata": {
        "id": "HiGgY9lE8tKg"
      },
      "outputs": [],
      "source": [
        "import tensorflow.compat.v1 as tf\n",
        "tf.disable_v2_behavior()\n",
        "import numpy as np\n",
        "import matplotlib.pyplot as plt"
      ]
    },
    {
      "cell_type": "code",
      "source": [
        "X_train_data = np.array([[0,0], [0,1], [1,0], [1,1]], dtype=np.float32) #input\n",
        "y_train_data =np.array([[0], [1], [1], [0]], dtype=np.float32) #output"
      ],
      "metadata": {
        "id": "nTg3sHd79YBD"
      },
      "execution_count": 9,
      "outputs": []
    },
    {
      "cell_type": "code",
      "source": [
        "# define number of neurons in each layer\n",
        "n_input =2 #number of features\n",
        "n_hidden = 4 #number of hidden layers\n",
        "n_output = 1 #number of output units\n",
        "\n",
        "# define placeholders for inputs and outputs\n",
        "X = tf.placeholder(tf.float32,shape=[None, n_input])\n",
        "y =tf.placeholder(tf.float32,shape=[None, n_output])\n",
        "\n",
        "# define weights and biases for each column\n",
        "w1 = tf.Variable(tf.random_normal([n_input, n_hidden])) # weights from input to hidden layer\n",
        "b1 = tf.Variable(tf.random_normal([n_hidden])) #biases for hidden layer\n",
        "w2 = tf.Variable(tf.random_normal([n_hidden, n_output])) # weights from hidden to output layer\n",
        "b2 =tf.Variable(tf.random_normal([n_output])) #biases for output layer\n",
        "\n",
        "# define activation fuction for each layer\n",
        "z1 = tf.add(tf.matmul(X, w1),b1) #linear combination for hidden layer\n",
        "a1 =tf.nn.sigmoid(z1) #sigmoid activation for hidden layer\n",
        "z2 =tf.add(tf.matmul(a1, w2), b2) #linear combination for output layer\n",
        "a2 =tf.nn.sigmoid(z2) #sigmoid activation for output layer\n",
        "# define cost fuction and optimizer\n",
        "cost = tf.reduce_mean(tf.square(y-a2)) # mean squared error\n",
        "optimizer = tf.train.GradientDescentOptimizer(learning_rate=0.01).minimize(cost) #gradient descent optimizer"
      ],
      "metadata": {
        "id": "1ujJLzF1-SVW"
      },
      "execution_count": 10,
      "outputs": []
    },
    {
      "cell_type": "code",
      "source": [
        "# create a session object\n",
        "sess = tf.Session()\n",
        "\n",
        "# initialize all variables\n",
        "sess.run(tf.global_variables_initializer())\n",
        "\n",
        "# train for 1000 epochs\n",
        "for epoch in range(1000):\n",
        "  # run optimazation and calculate costs\n",
        "  _, c =sess.run([optimizer, cost], feed_dict={X: X_train_data, y: y_train_data})\n",
        "\n",
        "  # print costs afetr every 100 epochs\n",
        "  if epoch % 100 ==0:\n",
        "    print(f\"Epoch {epoch}, Cost{c}\")\n",
        "\n",
        "# our model on unseen data\n",
        "X_test = np.array([[0,0], [0,1], [1,0], [1,1]], dtype=np.float32) #input\n",
        "y_test =np.array([[0], [1], [1], [0]], dtype=np.float32) #output\n",
        "\n",
        "# predicting using our trained data\n",
        "y_pred = sess.run(a2, feed_dict ={X: X_test})\n",
        "\n",
        "# print predictions\n",
        "print(f\"Predictions: {y_pred}\")\n",
        "print(f\"Actual value: {y_test}\")\n",
        "\n",
        "# plot predictions and actual values\n",
        "plt.scatter(X_test[:, 0], X_test[:, 1], c=y_pred[:, 0], cmap='RdBu')\n",
        "plt.title(\"Predictions\")\n",
        "plt.show()\n",
        "\n",
        "plt.scatter(X_test[:, 0], X_test[:, 1], c=y_test[:, 0], cmap='RdBu')\n",
        "plt.title(\"Actual Values\")\n",
        "plt.show()\n",
        "\n",
        "# close session\n",
        "sess.close()\n"
      ],
      "metadata": {
        "colab": {
          "base_uri": "https://localhost:8080/",
          "height": 1000
        },
        "id": "zCgYh8th-uH5",
        "outputId": "9bd0577b-2a35-409e-b907-aafd57aaebbe"
      },
      "execution_count": 11,
      "outputs": [
        {
          "output_type": "stream",
          "name": "stdout",
          "text": [
            "Epoch 0, Cost0.25113645195961\n",
            "Epoch 100, Cost0.2446276694536209\n",
            "Epoch 200, Cost0.24119582772254944\n",
            "Epoch 300, Cost0.2393815517425537\n",
            "Epoch 400, Cost0.2383774220943451\n",
            "Epoch 500, Cost0.2377701997756958\n",
            "Epoch 600, Cost0.23735569417476654\n",
            "Epoch 700, Cost0.23703449964523315\n",
            "Epoch 800, Cost0.2367585152387619\n",
            "Epoch 900, Cost0.23650453984737396\n",
            "Predictions: [[0.40251845]\n",
            " [0.53132147]\n",
            " [0.5206593 ]\n",
            " [0.57757884]]\n",
            "Actual value: [[0.]\n",
            " [1.]\n",
            " [1.]\n",
            " [0.]]\n"
          ]
        },
        {
          "output_type": "display_data",
          "data": {
            "text/plain": [
              "<Figure size 640x480 with 1 Axes>"
            ],
            "image/png": "[encoded data removed]"
          },
          "metadata": {}
        },
        {
          "output_type": "display_data",
          "data": {
            "text/plain": [
              "<Figure size 640x480 with 1 Axes>"
            ],
            "image/png": "[encoded data removed]"
          },
          "metadata": {}
        }
      ]
    }
  ]
}