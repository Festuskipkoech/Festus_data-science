{
  "nbformat": 4,
  "nbformat_minor": 0,
  "metadata": {
    "colab": {
      "provenance": [],
      "authorship_tag": "ABX9TyMDDiAmS3a2clPxOtEZobsq",
      "include_colab_link": true
    },
    "kernelspec": {
      "name": "python3",
      "display_name": "Python 3"
    },
    "language_info": {
      "name": "python"
    }
  },
  "cells": [
    {
      "cell_type": "markdown",
      "metadata": {
        "id": "view-in-github",
        "colab_type": "text"
      },
      "source": [
        "<a href=\"https://colab.research.google.com/github/Festuskipkoech/Festus_data-science/blob/main/MicrosoftStockPricePrediction.ipynb\" target=\"_parent\"><img src=\"https://colab.research.google.com/assets/colab-badge.svg\" alt=\"Open In Colab\"/></a>"
      ]
    },
    {
      "cell_type": "code",
      "execution_count": null,
      "metadata": {
        "id": "bJyRXYJFzcaQ"
      },
      "outputs": [],
      "source": [
        "from datetime import datetime\n",
        "import tensorflow as tf\n",
        "from tensorflow import keras\n",
        "import pandas as pd\n",
        "import matplotlib.pyplot as plt\n",
        "from sklearn.preprocessing import StandardScaler\n",
        "import numpy as np\n",
        "import seaborn as sns\n"
      ]
    },
    {
      "cell_type": "code",
      "source": [
        "microsoft = pd.read_csv('MicrosoftStock.csv')\n",
        "print(microsoft.head())\n"
      ],
      "metadata": {
        "id": "WZYj53HBzsjS"
      },
      "execution_count": null,
      "outputs": []
    },
    {
      "cell_type": "code",
      "source": [
        "microsoft.shape\n"
      ],
      "metadata": {
        "id": "qv8nQ-LJzvKQ"
      },
      "execution_count": null,
      "outputs": []
    },
    {
      "cell_type": "code",
      "source": [
        "microsoft.describe()\n"
      ],
      "metadata": {
        "id": "6NGPIHvjzxsN"
      },
      "execution_count": null,
      "outputs": []
    },
    {
      "cell_type": "code",
      "source": [
        "plt.plot(microsoft['date'],\n",
        "\t\tmicrosoft['open'],\n",
        "\t\tcolor=\"blue\",\n",
        "\t\tlabel=\"open\")\n",
        "plt.plot(microsoft['date'],\n",
        "\t\tmicrosoft['close'],\n",
        "\t\tcolor=\"green\",\n",
        "\t\tlabel=\"close\")\n",
        "plt.title(\"Microsoft Open-Close Stock\")\n",
        "plt.legend()\n"
      ],
      "metadata": {
        "id": "lgHKyyfXz0eg"
      },
      "execution_count": null,
      "outputs": []
    },
    {
      "cell_type": "code",
      "source": [
        "plt.plot(microsoft['date'],\n",
        "\t\tmicrosoft['volume'])\n",
        "plt.show()\n"
      ],
      "metadata": {
        "id": "3ymG3fMtz3V3"
      },
      "execution_count": null,
      "outputs": []
    },
    {
      "cell_type": "code",
      "source": [
        "sns.heatmap(microsoft.corr(),\n",
        "\t\t\tannot=True,\n",
        "\t\t\tcbar=False)\n",
        "plt.show()\n"
      ],
      "metadata": {
        "id": "LblQvzeuz6El"
      },
      "execution_count": null,
      "outputs": []
    },
    {
      "cell_type": "code",
      "source": [
        "microsoft['date'] = pd.to_datetime(microsoft['date'])\n",
        "prediction = microsoft.loc[(microsoft['date']\n",
        "\t\t\t\t\t\t\t> datetime(2013, 1, 1))\n",
        "\t\t\t\t\t\t\t& (microsoft['date']\n",
        "\t\t\t\t\t\t\t< datetime(2018, 1, 1))]\n",
        "\n",
        "plt.figure(figsize=(10, 10))\n",
        "plt.plot(microsoft['date'], microsoft['close'])\n",
        "plt.xlabel(\"Date\")\n",
        "plt.ylabel(\"Close\")\n",
        "plt.title(\"Microsoft Stock Prices\")\n"
      ],
      "metadata": {
        "id": "g2rEDpJqz-Ot"
      },
      "execution_count": null,
      "outputs": []
    },
    {
      "cell_type": "code",
      "source": [
        "# prepare the training set samples\n",
        "msft_close = microsoft.filter(['close'])\n",
        "dataset = msft_close.values\n",
        "training = int(np.ceil(len(dataset) *. 95))\n",
        "\n",
        "# scale the data\n",
        "ss = StandardScaler()\n",
        "ss = ss.fit_transform(dataset)\n",
        "\n",
        "train_data = ss[0:int(training), :]\n",
        "\n",
        "x_train = []\n",
        "y_train = []\n",
        "\n",
        "# considering 60 as the batch size,\n",
        "# create the X_train and y_train\n",
        "for i in range(60, len(train_data)):\n",
        "\tx_train.append(train_data[i-60:i, 0])\n",
        "\ty_train.append(train_data[i, 0])\n",
        "\n",
        "x_train, y_train = np.array(x_train),\\\n",
        "\t\t\t\tnp.array(y_train)\n",
        "X_train = np.reshape(x_train,\n",
        "\t\t\t\t\t(x_train.shape[0],\n",
        "\t\t\t\t\tx_train.shape[1], 1))\n"
      ],
      "metadata": {
        "id": "czFfXrAf0BGi"
      },
      "execution_count": null,
      "outputs": []
    },
    {
      "cell_type": "code",
      "source": [
        "model = keras.models.Sequential()\n",
        "model.add(keras.layers.LSTM(units=64,\n",
        "\t\t\t\t\t\t\treturn_sequences=True,\n",
        "\t\t\t\t\t\t\tinput_shape\n",
        "\t\t\t\t\t\t\t=(X_train.shape[1], 1)))\n",
        "model.add(keras.layers.LSTM(units=64))\n",
        "model.add(keras.layers.Dense(128))\n",
        "model.add(keras.layers.Dropout(0.5))\n",
        "model.add(keras.layers.Dense(1))\n",
        "\n",
        "print(model.summary())\n"
      ],
      "metadata": {
        "id": "H_JZihtg0CIZ"
      },
      "execution_count": null,
      "outputs": []
    },
    {
      "cell_type": "code",
      "source": [
        "from keras.metrics import RootMeanSquaredError\n",
        "model.compile(optimizer='adam',\n",
        "\t\t\tloss='mae',\n",
        "\t\t\tmetrics=RootMeanSquaredError())\n",
        "\n",
        "history = model.fit(X_train, y_train,\n",
        "\t\t\t\t\tepochs=20)\n"
      ],
      "metadata": {
        "id": "jzD5Mi6L0HhL"
      },
      "execution_count": null,
      "outputs": []
    },
    {
      "cell_type": "code",
      "source": [
        "testing = ss[training - 60:, :]\n",
        "x_test = []\n",
        "y_test = dataset[training:, :]\n",
        "for i in range(60, len(testing)):\n",
        "\tx_test.append(testing[i-60:i, 0])\n",
        "\n",
        "x_test = np.array(x_test)\n",
        "X_test = np.reshape(x_test,\n",
        "\t\t\t\t\t(x_test.shape[0],\n",
        "\t\t\t\t\tx_test.shape[1], 1))\n",
        "\n",
        "pred = model.predict(X_test)\n"
      ],
      "metadata": {
        "id": "2Lf5XkYU0Ild"
      },
      "execution_count": null,
      "outputs": []
    },
    {
      "cell_type": "code",
      "source": [
        "train = microsoft[:training]\n",
        "test = microsoft[training:]\n",
        "test['Predictions'] = pred\n",
        "\n",
        "plt.figure(figsize=(10, 8))\n",
        "plt.plot(train['close'], c=\"b\")\n",
        "plt.plot(test[['close', 'Predictions']])\n",
        "plt.title('Microsoft Stock Close Price')\n",
        "plt.ylabel(\"Close\")\n",
        "plt.legend(['Train', 'Test', 'Predictions'])\n"
      ],
      "metadata": {
        "id": "W1z9rlaB0LHJ"
      },
      "execution_count": null,
      "outputs": []
    }
  ]
}